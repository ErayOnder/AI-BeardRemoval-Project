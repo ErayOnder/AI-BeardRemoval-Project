{
 "cells": [
  {
   "cell_type": "markdown",
   "id": "f435a1ab",
   "metadata": {},
   "source": [
    "# Beard Removal Dataset Generation Demo\n",
    "This notebook demonstrates how to use the StableDiffusionGenerator to create paired images (with and without beard) and generate a full dataset."
   ]
  },
  {
   "cell_type": "code",
   "execution_count": null,
   "id": "5c7a7c86",
   "metadata": {},
   "outputs": [],
   "source": [
    "# Clone the project repository if running in Colab (uncomment if needed)\n",
    "# !git clone https://github.com/ErayOnder/AI-BeardRemoval-Project.git\n",
    "# %cd AI-BeardRemoval-Project\n",
    "# !pip install -r requirements.txt"
   ]
  },
  {
   "cell_type": "code",
   "execution_count": null,
   "id": "72853464",
   "metadata": {},
   "outputs": [],
   "source": [
    "# Import the StableDiffusionGenerator from the utils folder\n",
    "import sys\n",
    "sys.path.append(\"./utils\")\n",
    "from utils.stable_diffusion_helper import StableDiffusionGenerator"
   ]
  },
  {
   "cell_type": "code",
   "execution_count": null,
   "id": "2eaec6dc",
   "metadata": {},
   "outputs": [],
   "source": [
    "# Initialize the generator\n",
    "sd_generator = StableDiffusionGenerator()"
   ]
  },
  {
   "cell_type": "markdown",
   "id": "7e90d7e8",
   "metadata": {},
   "source": [
    "## Generate 10 Sample Paired Images\n",
    "This will generate and save 10 pairs of images (bearded and clean-shaven) in the dataset directory."
   ]
  },
  {
   "cell_type": "code",
   "execution_count": null,
   "id": "3d661ece",
   "metadata": {},
   "outputs": [],
   "source": [
    "base_prompt = \"A portrait photo of a young man, smiling, studio lighting\"\n",
    "for i in range(10):\n",
    "    bearded_img, clean_img = sd_generator.generate_paired_images(\n",
    "        base_prompt=base_prompt,\n",
    "        seed=42 + i,\n",
    "        split=\"train\",\n",
    "        pair_id=i\n",
    "    )\n",
    "    # Optionally display the images in the notebook\n",
    "    display(bearded_img)\n",
    "    display(clean_img)"
   ]
  },
  {
   "cell_type": "markdown",
   "id": "ba34119b",
   "metadata": {},
   "source": [
    "## Generate the Full Dataset\n",
    "This will generate the full dataset with the specified number of pairs and train/test split."
   ]
  },
  {
   "cell_type": "code",
   "execution_count": null,
   "id": "c192db94",
   "metadata": {},
   "outputs": [],
   "source": [
    "# Generate a dataset of 100 pairs (80 train, 20 test)\n",
    "sd_generator.generate_dataset(num_pairs=100, test_split=0.2)"
   ]
  }
 ],
 "metadata": {
  "language_info": {
   "name": "python"
  }
 },
 "nbformat": 4,
 "nbformat_minor": 5
}
